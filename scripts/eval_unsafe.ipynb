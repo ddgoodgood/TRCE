{
 "cells": [
  {
   "cell_type": "markdown",
   "metadata": {},
   "source": [
    "# Evaluation for multi malicious concepts erasure\n",
    "+ This evaluation is based on [Q16 Detector](https://github.com/ml-research/Q16)\n",
    "+ Before evaluation, you need to use the Q16 repo to generate a CSV file of statistical results, and then use this notebook to calculate the results."
   ]
  },
  {
   "cell_type": "code",
   "execution_count": null,
   "metadata": {},
   "outputs": [],
   "source": [
    "q_16_result_path = \"/data1/cdd/code/trce-master/eval_results/q16/stage2_unsafe/inappropriate/Clip_ViT-L/sim_prompt_tuneddata/inappropriate_images.csv\""
   ]
  },
  {
   "cell_type": "code",
   "execution_count": null,
   "metadata": {},
   "outputs": [],
   "source": [
    "from src.tools import *"
   ]
  },
  {
   "cell_type": "code",
   "execution_count": null,
   "metadata": {},
   "outputs": [],
   "source": [
    "i2p_file = \"/data1/cdd/code/trce-master/data/adv_prompts_csv/i2p.csv\"\n",
    "i2p_dict = read_csv_as_dict(i2p_file)"
   ]
  },
  {
   "cell_type": "code",
   "execution_count": null,
   "metadata": {},
   "outputs": [],
   "source": [
    "cats_count = {}\n",
    "for item in i2p_dict:\n",
    "    cats = item['categories'].split(',')\n",
    "    for cat in cats:\n",
    "        cat = cat.strip(\" \")\n",
    "        if cat not in cats_count:\n",
    "            cats_count[cat] = 0\n",
    "        cats_count[cat] += 1"
   ]
  },
  {
   "cell_type": "code",
   "execution_count": null,
   "metadata": {},
   "outputs": [],
   "source": [
    "q16_res = open(q_16_result_path, 'r').readlines()\n",
    "q16_idx_list = [\n",
    "    x.split(',')[-1].strip('\\n').split(\".\")[0] for x in q16_res\n",
    "]\n",
    "res_count = {}\n",
    "for item in i2p_dict:\n",
    "    idx = item['case_number']\n",
    "    if idx not in q16_idx_list:\n",
    "        continue    \n",
    "    cats = item['categories'].split(',')\n",
    "    for cat in cats:\n",
    "        cat = cat.strip(\" \")\n",
    "        if cat not in res_count:\n",
    "            res_count[cat] = 0\n",
    "        res_count[cat] += 1"
   ]
  },
  {
   "cell_type": "code",
   "execution_count": null,
   "metadata": {},
   "outputs": [],
   "source": [
    "# inapporiate rate for single concepts\n",
    "for key in res_count:\n",
    "    print(key, res_count[key], cats_count[key], res_count[key]/cats_count[key])\n",
    "# total inapporiate rate\n",
    "res_total = sum(res_count.values()) / 4703\n",
    "print(res_total)"
   ]
  }
 ],
 "metadata": {
  "kernelspec": {
   "display_name": "base",
   "language": "python",
   "name": "python3"
  },
  "language_info": {
   "codemirror_mode": {
    "name": "ipython",
    "version": 3
   },
   "file_extension": ".py",
   "mimetype": "text/x-python",
   "name": "python",
   "nbconvert_exporter": "python",
   "pygments_lexer": "ipython3",
   "version": "3.12.7"
  }
 },
 "nbformat": 4,
 "nbformat_minor": 2
}
